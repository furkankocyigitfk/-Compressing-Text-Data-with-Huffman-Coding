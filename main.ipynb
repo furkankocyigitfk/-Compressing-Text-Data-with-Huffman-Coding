{
 "cells": [
  {
   "cell_type": "code",
   "execution_count": 1,
   "metadata": {},
   "outputs": [],
   "source": [
    "from collections import Counter\n",
    "import heapq\n",
    "import os\n",
    "import filecmp\n",
    "import time\n",
    "import pandas as pd\n",
    "import matplotlib.pyplot as plt\n"
   ]
  },
  {
   "cell_type": "code",
   "execution_count": 2,
   "metadata": {},
   "outputs": [],
   "source": [
    "def merge_files():\n",
    "    TXT_PATH=\"./69yazar/raw_texts/\"\n",
    "    for writer in os.listdir(TXT_PATH):\n",
    "        merged_text = \"\"\n",
    "        for file_name in os.listdir(TXT_PATH+writer+\"/\"):\n",
    "            with open(TXT_PATH+writer+\"/\"+file_name, \"r\") as file:\n",
    "                merged_text += file.read()\n",
    "        with open(\"merged/\"+writer+\".txt\", \"w\") as file:\n",
    "            file.write(merged_text)"
   ]
  },
  {
   "cell_type": "code",
   "execution_count": 3,
   "metadata": {},
   "outputs": [],
   "source": [
    "class Node:\n",
    "\tdef __init__(self, key, count):\n",
    "\t\tself.left = None\n",
    "\t\tself.right = None\n",
    "\t\tself.key = key\n",
    "\t\tself.count = count\n",
    "\t\n",
    "\tdef __lt__(self, other):\n",
    "\t\treturn self.count < other.count\n",
    "\t\n",
    "\tdef __str__(self) -> str:\n",
    "\t\treturn \"key: \" + repr(str(self.key)) + \" count: \" + str(self.count) "
   ]
  },
  {
   "cell_type": "code",
   "execution_count": 4,
   "metadata": {},
   "outputs": [],
   "source": [
    "def get_frequencies(text, rate):\n",
    "    freq = Counter(text)\n",
    "    two_letters_first = {}\n",
    "    two_letters_second = {}\n",
    "\n",
    "    for i in range(0, len(text)-1, 2):\n",
    "        if (text[i] != text[i+1]):\n",
    "            two_letters_first[text[i:i+2]] = two_letters_first.get(text[i:i+2], 0) + 1\n",
    "\n",
    "    for i in range(1, len(text)-1, 2):\n",
    "        if (text[i] != text[i+1]):\n",
    "            two_letters_second[text[i:i+2]] = two_letters_second.get(text[i:i+2], 0) + 1\n",
    "    \n",
    "\n",
    "    if sum(two_letters_first.values()) > sum(two_letters_second.values()):\n",
    "        two_letters = two_letters_first\n",
    "    else:\n",
    "        two_letters = two_letters_second\n",
    "\n",
    "    two_letters = dict(sorted(two_letters.items(), key=lambda item: item[1], reverse=True))\n",
    "    \n",
    "    for key, value in two_letters.items():\n",
    "        \n",
    "        if freq.get(key[0]) >= value and freq.get(key[1]) >= value and value >= len(text) * rate:\n",
    "            freq[key[0]] -= value\n",
    "            freq[key[1]] -= value\n",
    "            freq.update({key: value})\n",
    "\n",
    "    return sorted(list(filter(lambda x: x[1] != 0, freq.items())), key=lambda item: item[1])"
   ]
  },
  {
   "cell_type": "code",
   "execution_count": 5,
   "metadata": {},
   "outputs": [],
   "source": [
    "def build_huffman_tree(freq):\n",
    "\troot = []\n",
    "\tfor key, value in freq:\n",
    "\t\troot.append(Node(key, value))\n",
    "\t\t\n",
    "\theapq.heapify(root)\n",
    "\t\n",
    "\twhile len(root) != 1:\n",
    "\t\tleft = heapq.heappop(root)\n",
    "\t\tright = heapq.heappop(root)\n",
    "\t\ttop = Node(None, left.count + right.count)\n",
    "\t\ttop.left = left\n",
    "\t\ttop.right = right\n",
    "\t\theapq.heappush(root, top)\n",
    "\n",
    "\treturn root[0]"
   ]
  },
  {
   "cell_type": "code",
   "execution_count": 6,
   "metadata": {},
   "outputs": [],
   "source": [
    "def build_table(node, path, table):\n",
    "    if node is None:\n",
    "        return\n",
    "    \n",
    "    if node.left is None and node.right is None:\n",
    "        table[node.key] = path\n",
    "        return\n",
    "    \n",
    "    build_table(node.left, path+'0', table)\n",
    "    build_table(node.right, path+'1', table)"
   ]
  },
  {
   "cell_type": "code",
   "execution_count": 7,
   "metadata": {},
   "outputs": [],
   "source": [
    "def encode_binary(data, table):\n",
    "    arr = []\n",
    "    i = 0\n",
    "\n",
    "    while i < len(data):\n",
    "        if data[i:i+2] in table:\n",
    "            arr.append(table[data[i:i+2]])\n",
    "            i += 2\n",
    "        elif data[i] in table:\n",
    "            arr.append(table[data[i]])\n",
    "            i += 1\n",
    "    return \"\".join(arr)"
   ]
  },
  {
   "cell_type": "code",
   "execution_count": 8,
   "metadata": {},
   "outputs": [],
   "source": [
    "def build_tree_from_preorder(preorder):\n",
    "    if not preorder:\n",
    "        return None\n",
    "\n",
    "    node_info = preorder.pop(0).split(\"|\")\n",
    "    \n",
    "    while not node_info[0]:\n",
    "        node_info = preorder.pop(0).split(\"|\")\n",
    "\n",
    "    key, count = node_info[0].split(\"~$~\")\n",
    "\n",
    "    if count == 'None':\n",
    "        return None\n",
    "\n",
    "    root = Node(key, int(count))\n",
    "    root.left = build_tree_from_preorder(preorder)\n",
    "    root.right = build_tree_from_preorder(preorder)\n",
    "\n",
    "    return root\n",
    "\n",
    "def preorder_representation(root):\n",
    "    if not root:\n",
    "        return 'None~$~None|'\n",
    "\n",
    "    result = f'{root.key}~$~{root.count}|'\n",
    "    result += preorder_representation(root.left)\n",
    "    result += preorder_representation(root.right)\n",
    "\n",
    "    return result"
   ]
  },
  {
   "cell_type": "code",
   "execution_count": 9,
   "metadata": {},
   "outputs": [],
   "source": [
    "def compress_part(file_name, rate, folder_name=\"./merged/\"):\n",
    "    data = None\n",
    "    with open(folder_name+file_name+\".txt\", \"r\") as file:\n",
    "        data = file.read()\n",
    "\n",
    "    compress_time = time.time()\n",
    "    freqs = get_frequencies(data, rate)\n",
    "    root = build_huffman_tree(freqs)\n",
    "    table = dict()\n",
    "    build_table(root, \"\", table)\n",
    "\n",
    "    reconstructed_preorder = preorder_representation(root)\n",
    "    encoded_data = encode_binary(data, table)\n",
    "    header_string = str(len(encoded_data)) + \"``\" + reconstructed_preorder + \"``\"\n",
    "    header_data = header_string.encode('utf-8')\n",
    "\n",
    "    padding_size = (8 - len(encoded_data) % 8) % 8\n",
    "    binary_string_padded = encoded_data + '0' * padding_size\n",
    "\n",
    "    binary_data = bytes(int(binary_string_padded[i:i+8], 2) for i in range(0, len(binary_string_padded), 8))\n",
    "\n",
    "    with open('./encoded/'+file_name+\".bin\", \"wb\") as binary_file:\n",
    "        binary_file.write(header_data)\n",
    "        binary_file.write(binary_data)\n",
    "\n",
    "\n",
    "    compress_time = time.time() - compress_time\n",
    "    \n",
    "    return compress_time"
   ]
  },
  {
   "cell_type": "code",
   "execution_count": 10,
   "metadata": {},
   "outputs": [],
   "source": [
    "def decode(node, data, length, file_name):\n",
    "    i = 0\n",
    "    curr = node\n",
    "    text = \"\"\n",
    "\n",
    "    while i < length:\n",
    "        if curr:\n",
    "            if data[i] == '1':\n",
    "                curr = curr.right\n",
    "            elif data[i] == '0':\n",
    "                curr = curr.left\n",
    "            if curr.right is None and curr.left is None:\n",
    "                text += curr.key\n",
    "                curr = node\n",
    "        i += 1\n",
    "\n",
    "    with open(\"./decoded/\" + file_name + \".txt\", \"w\") as file:\n",
    "        file.write(text)\n"
   ]
  },
  {
   "cell_type": "code",
   "execution_count": 11,
   "metadata": {},
   "outputs": [],
   "source": [
    "def get_comparison_ratio(file_name):\n",
    "    return os.path.getsize('./encoded/'+file_name+\".bin\") / os.path.getsize('./merged/'+file_name+\".txt\")"
   ]
  },
  {
   "cell_type": "code",
   "execution_count": 12,
   "metadata": {},
   "outputs": [],
   "source": [
    "def compare_files(file_name):\n",
    "    return filecmp.cmp('./decoded/'+file_name+\".txt\", './merged/'+file_name+\".txt\")"
   ]
  },
  {
   "cell_type": "code",
   "execution_count": 13,
   "metadata": {},
   "outputs": [],
   "source": [
    "def decompress_part(file_name, folder_name=\"./encoded/\"):\n",
    "    decompress_time = time.time()\n",
    "    with open(folder_name + file_name + \".bin\", \"rb\") as binary_file:\n",
    "        file_content = binary_file.read()\n",
    "        \n",
    "    delimiter = b'``'\n",
    "    delimiter_index = file_content.find(delimiter)\n",
    "    length = int(file_content[:delimiter_index].decode('utf-8'))\n",
    "    file_content = file_content[delimiter_index+len(delimiter):]\n",
    "    delimiter_index = file_content.find(delimiter)\n",
    "    tree_as_string = file_content[:delimiter_index].decode('utf-8')\n",
    "    binary_data = file_content[delimiter_index+len(delimiter):]\n",
    "\n",
    "    binary_string = ''.join(format(byte, '08b') for byte in binary_data)\n",
    "    root =  build_tree_from_preorder([item for item in tree_as_string.split('|') if item])\n",
    "\n",
    "    decode(root, binary_string, length, file_name)\n",
    "\n",
    "    decompress_time = time.time() - decompress_time\n",
    "    \n",
    "    return decompress_time"
   ]
  },
  {
   "cell_type": "code",
   "execution_count": 14,
   "metadata": {},
   "outputs": [],
   "source": [
    "def compress_and_decompress(file_name, rate):\n",
    "    compress_time = compress_part(file_name, rate)\n",
    "    decompress_time = decompress_part(file_name)\n",
    "\n",
    "    return file_name, rate, get_comparison_ratio(file_name), compare_files(file_name), compress_time, decompress_time"
   ]
  },
  {
   "cell_type": "code",
   "execution_count": 32,
   "metadata": {},
   "outputs": [],
   "source": [
    "results = []\n",
    "for i in range(20):\n",
    "    for writer in os.listdir(\"./merged/\"):\n",
    "        results.append(compress_and_decompress(writer[:-4], 0.001 * (i+1)))"
   ]
  },
  {
   "cell_type": "code",
   "execution_count": 33,
   "metadata": {},
   "outputs": [],
   "source": [
    "df = pd.DataFrame(data=results, columns=[\"file_name\", \"rate\", \"comparison_rate\", \"is_same\", \"compress_time\", \"decompress_time\"])"
   ]
  },
  {
   "cell_type": "code",
   "execution_count": 48,
   "metadata": {},
   "outputs": [
    {
     "data": {
      "text/html": [
       "<div>\n",
       "<style scoped>\n",
       "    .dataframe tbody tr th:only-of-type {\n",
       "        vertical-align: middle;\n",
       "    }\n",
       "\n",
       "    .dataframe tbody tr th {\n",
       "        vertical-align: top;\n",
       "    }\n",
       "\n",
       "    .dataframe thead th {\n",
       "        text-align: right;\n",
       "    }\n",
       "</style>\n",
       "<table border=\"1\" class=\"dataframe\">\n",
       "  <thead>\n",
       "    <tr style=\"text-align: right;\">\n",
       "      <th></th>\n",
       "      <th>count</th>\n",
       "      <th>mean</th>\n",
       "      <th>std</th>\n",
       "      <th>min</th>\n",
       "      <th>25%</th>\n",
       "      <th>50%</th>\n",
       "      <th>75%</th>\n",
       "      <th>max</th>\n",
       "    </tr>\n",
       "  </thead>\n",
       "  <tbody>\n",
       "    <tr>\n",
       "      <th>rate</th>\n",
       "      <td>1380.0</td>\n",
       "      <td>0.010500</td>\n",
       "      <td>0.005768</td>\n",
       "      <td>0.001000</td>\n",
       "      <td>0.005750</td>\n",
       "      <td>0.010500</td>\n",
       "      <td>0.015250</td>\n",
       "      <td>0.020000</td>\n",
       "    </tr>\n",
       "    <tr>\n",
       "      <th>comparison_rate</th>\n",
       "      <td>1380.0</td>\n",
       "      <td>0.698208</td>\n",
       "      <td>0.068007</td>\n",
       "      <td>0.605499</td>\n",
       "      <td>0.658667</td>\n",
       "      <td>0.685927</td>\n",
       "      <td>0.711387</td>\n",
       "      <td>1.425548</td>\n",
       "    </tr>\n",
       "    <tr>\n",
       "      <th>compress_time</th>\n",
       "      <td>1380.0</td>\n",
       "      <td>0.055730</td>\n",
       "      <td>0.034149</td>\n",
       "      <td>0.000000</td>\n",
       "      <td>0.033372</td>\n",
       "      <td>0.049673</td>\n",
       "      <td>0.065376</td>\n",
       "      <td>0.241789</td>\n",
       "    </tr>\n",
       "    <tr>\n",
       "      <th>decompress_time</th>\n",
       "      <td>1380.0</td>\n",
       "      <td>0.070586</td>\n",
       "      <td>0.037552</td>\n",
       "      <td>0.013812</td>\n",
       "      <td>0.049838</td>\n",
       "      <td>0.063748</td>\n",
       "      <td>0.080573</td>\n",
       "      <td>0.284028</td>\n",
       "    </tr>\n",
       "  </tbody>\n",
       "</table>\n",
       "</div>"
      ],
      "text/plain": [
       "                  count      mean       std       min       25%       50%  \\\n",
       "rate             1380.0  0.010500  0.005768  0.001000  0.005750  0.010500   \n",
       "comparison_rate  1380.0  0.698208  0.068007  0.605499  0.658667  0.685927   \n",
       "compress_time    1380.0  0.055730  0.034149  0.000000  0.033372  0.049673   \n",
       "decompress_time  1380.0  0.070586  0.037552  0.013812  0.049838  0.063748   \n",
       "\n",
       "                      75%       max  \n",
       "rate             0.015250  0.020000  \n",
       "comparison_rate  0.711387  1.425548  \n",
       "compress_time    0.065376  0.241789  \n",
       "decompress_time  0.080573  0.284028  "
      ]
     },
     "execution_count": 48,
     "metadata": {},
     "output_type": "execute_result"
    }
   ],
   "source": [
    "df.describe().T"
   ]
  },
  {
   "cell_type": "code",
   "execution_count": 35,
   "metadata": {},
   "outputs": [
    {
     "name": "stdout",
     "output_type": "stream",
     "text": [
      "<class 'pandas.core.frame.DataFrame'>\n",
      "RangeIndex: 1380 entries, 0 to 1379\n",
      "Data columns (total 6 columns):\n",
      " #   Column           Non-Null Count  Dtype  \n",
      "---  ------           --------------  -----  \n",
      " 0   file_name        1380 non-null   object \n",
      " 1   rate             1380 non-null   float64\n",
      " 2   comparison_rate  1380 non-null   float64\n",
      " 3   is_same          1380 non-null   bool   \n",
      " 4   compress_time    1380 non-null   float64\n",
      " 5   decompress_time  1380 non-null   float64\n",
      "dtypes: bool(1), float64(4), object(1)\n",
      "memory usage: 55.4+ KB\n"
     ]
    }
   ],
   "source": [
    "df.info()"
   ]
  },
  {
   "cell_type": "code",
   "execution_count": 36,
   "metadata": {},
   "outputs": [],
   "source": [
    "df2 = df.drop([\"file_name\"], axis=1)"
   ]
  },
  {
   "cell_type": "code",
   "execution_count": 40,
   "metadata": {},
   "outputs": [],
   "source": [
    "df3 = df2.groupby(['rate']).mean() "
   ]
  },
  {
   "cell_type": "code",
   "execution_count": 45,
   "metadata": {},
   "outputs": [
    {
     "name": "stderr",
     "output_type": "stream",
     "text": [
      "No artists with labels found to put in legend.  Note that artists whose label start with an underscore are ignored when legend() is called with no argument.\n"
     ]
    },
    {
     "data": {
      "image/png": "[encoded data removed]",
      "text/plain": [
       "<Figure size 640x480 with 1 Axes>"
      ]
     },
     "metadata": {},
     "output_type": "display_data"
    }
   ],
   "source": [
    "plt.plot(df3.index, df3['comparison_rate'])\n",
    "\n",
    "plt.xlabel('Two Letters Rate')\n",
    "plt.ylabel('Comparison Rate')\n",
    "plt.title('Finding Optimum Two Letters Rate')\n",
    "\n",
    "plt.legend()\n",
    "plt.show()"
   ]
  },
  {
   "cell_type": "code",
   "execution_count": 52,
   "metadata": {},
   "outputs": [
    {
     "data": {
      "text/plain": [
       "array([[<Axes: title={'center': 'rate'}>,\n",
       "        <Axes: title={'center': 'comparison_rate'}>],\n",
       "       [<Axes: title={'center': 'compress_time'}>,\n",
       "        <Axes: title={'center': 'decompress_time'}>]], dtype=object)"
      ]
     },
     "execution_count": 52,
     "metadata": {},
     "output_type": "execute_result"
    },
    {
     "data": {
      "image/png": "[encoded data removed]",
      "text/plain": [
       "<Figure size 640x480 with 4 Axes>"
      ]
     },
     "metadata": {},
     "output_type": "display_data"
    }
   ],
   "source": [
    "df.hist()"
   ]
  },
  {
   "cell_type": "code",
   "execution_count": 50,
   "metadata": {},
   "outputs": [
    {
     "data": {
      "text/html": [
       "<div>\n",
       "<style scoped>\n",
       "    .dataframe tbody tr th:only-of-type {\n",
       "        vertical-align: middle;\n",
       "    }\n",
       "\n",
       "    .dataframe tbody tr th {\n",
       "        vertical-align: top;\n",
       "    }\n",
       "\n",
       "    .dataframe thead th {\n",
       "        text-align: right;\n",
       "    }\n",
       "</style>\n",
       "<table border=\"1\" class=\"dataframe\">\n",
       "  <thead>\n",
       "    <tr style=\"text-align: right;\">\n",
       "      <th></th>\n",
       "      <th>count</th>\n",
       "      <th>mean</th>\n",
       "      <th>std</th>\n",
       "      <th>min</th>\n",
       "      <th>25%</th>\n",
       "      <th>50%</th>\n",
       "      <th>75%</th>\n",
       "      <th>max</th>\n",
       "    </tr>\n",
       "  </thead>\n",
       "  <tbody>\n",
       "    <tr>\n",
       "      <th>comparison_rate</th>\n",
       "      <td>20.0</td>\n",
       "      <td>0.698208</td>\n",
       "      <td>0.030046</td>\n",
       "      <td>0.684491</td>\n",
       "      <td>0.684503</td>\n",
       "      <td>0.684706</td>\n",
       "      <td>0.695084</td>\n",
       "      <td>0.807624</td>\n",
       "    </tr>\n",
       "    <tr>\n",
       "      <th>is_same</th>\n",
       "      <td>20.0</td>\n",
       "      <td>1.000000</td>\n",
       "      <td>0.000000</td>\n",
       "      <td>1.000000</td>\n",
       "      <td>1.000000</td>\n",
       "      <td>1.000000</td>\n",
       "      <td>1.000000</td>\n",
       "      <td>1.000000</td>\n",
       "    </tr>\n",
       "    <tr>\n",
       "      <th>compress_time</th>\n",
       "      <td>20.0</td>\n",
       "      <td>0.055730</td>\n",
       "      <td>0.001025</td>\n",
       "      <td>0.053503</td>\n",
       "      <td>0.055267</td>\n",
       "      <td>0.055833</td>\n",
       "      <td>0.056271</td>\n",
       "      <td>0.058406</td>\n",
       "    </tr>\n",
       "    <tr>\n",
       "      <th>decompress_time</th>\n",
       "      <td>20.0</td>\n",
       "      <td>0.070586</td>\n",
       "      <td>0.001713</td>\n",
       "      <td>0.066930</td>\n",
       "      <td>0.069955</td>\n",
       "      <td>0.071029</td>\n",
       "      <td>0.071849</td>\n",
       "      <td>0.072659</td>\n",
       "    </tr>\n",
       "  </tbody>\n",
       "</table>\n",
       "</div>"
      ],
      "text/plain": [
       "                 count      mean       std       min       25%       50%  \\\n",
       "comparison_rate   20.0  0.698208  0.030046  0.684491  0.684503  0.684706   \n",
       "is_same           20.0  1.000000  0.000000  1.000000  1.000000  1.000000   \n",
       "compress_time     20.0  0.055730  0.001025  0.053503  0.055267  0.055833   \n",
       "decompress_time   20.0  0.070586  0.001713  0.066930  0.069955  0.071029   \n",
       "\n",
       "                      75%       max  \n",
       "comparison_rate  0.695084  0.807624  \n",
       "is_same          1.000000  1.000000  \n",
       "compress_time    0.056271  0.058406  \n",
       "decompress_time  0.071849  0.072659  "
      ]
     },
     "execution_count": 50,
     "metadata": {},
     "output_type": "execute_result"
    }
   ],
   "source": [
    "df3.describe().T"
   ]
  },
  {
   "cell_type": "code",
   "execution_count": 16,
   "metadata": {},
   "outputs": [
    {
     "data": {
      "text/plain": [
       "('mahfiEgilmez',\n",
       " 0.005,\n",
       " 0.6584228555031475,\n",
       " True,\n",
       " 0.1266615390777588,\n",
       " 0.15858817100524902)"
      ]
     },
     "execution_count": 16,
     "metadata": {},
     "output_type": "execute_result"
    }
   ],
   "source": [
    "compress_and_decompress(\"mahfiEgilmez\", 0.005)"
   ]
  },
  {
   "cell_type": "code",
   "execution_count": 17,
   "metadata": {},
   "outputs": [
    {
     "data": {
      "text/plain": [
       "('ridvanDilmen',\n",
       " 0.005,\n",
       " 0.6887779422464186,\n",
       " True,\n",
       " 0.11691141128540039,\n",
       " 0.13519549369812012)"
      ]
     },
     "execution_count": 17,
     "metadata": {},
     "output_type": "execute_result"
    }
   ],
   "source": [
    "compress_and_decompress(\"ridvanDilmen\", 0.005)"
   ]
  },
  {
   "cell_type": "code",
   "execution_count": 18,
   "metadata": {},
   "outputs": [
    {
     "data": {
      "text/plain": [
       "('elifSafak',\n",
       " 0.005,\n",
       " 0.6617674911928482,\n",
       " True,\n",
       " 0.1047203540802002,\n",
       " 0.36602139472961426)"
      ]
     },
     "execution_count": 18,
     "metadata": {},
     "output_type": "execute_result"
    }
   ],
   "source": [
    "compress_and_decompress(\"elifSafak\", 0.005)"
   ]
  },
  {
   "cell_type": "code",
   "execution_count": 19,
   "metadata": {},
   "outputs": [
    {
     "data": {
      "text/plain": [
       "('muratBardakci',\n",
       " 0.005,\n",
       " 0.6884520215205103,\n",
       " True,\n",
       " 0.10048151016235352,\n",
       " 0.18650031089782715)"
      ]
     },
     "execution_count": 19,
     "metadata": {},
     "output_type": "execute_result"
    }
   ],
   "source": [
    "compress_and_decompress(\"muratBardakci\", 0.005)"
   ]
  }
 ],
 "metadata": {
  "kernelspec": {
   "display_name": "Python 3",
   "language": "python",
   "name": "python3"
  },
  "language_info": {
   "codemirror_mode": {
    "name": "ipython",
    "version": 3
   },
   "file_extension": ".py",
   "mimetype": "text/x-python",
   "name": "python",
   "nbconvert_exporter": "python",
   "pygments_lexer": "ipython3",
   "version": "3.9.0"
  }
 },
 "nbformat": 4,
 "nbformat_minor": 2
}
